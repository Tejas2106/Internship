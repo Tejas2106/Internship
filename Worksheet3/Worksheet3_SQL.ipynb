{
 "cells": [
  {
   "cell_type": "code",
   "execution_count": 1,
   "id": "300425e8",
   "metadata": {},
   "outputs": [],
   "source": [
    "import sqlite3"
   ]
  },
  {
   "cell_type": "code",
   "execution_count": 2,
   "id": "0abc5688",
   "metadata": {},
   "outputs": [],
   "source": [
    "db=sqlite3.connect(\"my_database1.db\")"
   ]
  },
  {
   "cell_type": "code",
   "execution_count": 13,
   "id": "c5e88806",
   "metadata": {},
   "outputs": [],
   "source": [
    "customers_table = \"\"\"CREATE TABLE Customers ( id customerNumber, customerName varchar(30), customerLastName varchar(30), customerFirstName varchar(30), \n",
    "phone int(10), addressLine1 varchar(50), addressLine2 varchar(50), city varchar(10), state varchar(10), postalCode int(10), \n",
    "country varchar2(30), salesRepEmployeeNumber int(10), credLimit int(20) );\n",
    "        \"\"\""
   ]
  },
  {
   "cell_type": "code",
   "execution_count": 36,
   "id": "53adcc4c",
   "metadata": {},
   "outputs": [],
   "source": [
    "orders = \"\"\" CREATE TABLE orders ( id orderNumber , orderDate Date, requiredDate Date, shippedDate Date, \n",
    "status varchar(20), comments varchar(50), customerNumber varchar(50)); \"\"\""
   ]
  },
  {
   "cell_type": "code",
   "execution_count": 16,
   "id": "175890c2",
   "metadata": {},
   "outputs": [],
   "source": [
    "order_details = \"\"\" CREATE TABLE orderdetails ( id orderNumber, productCode int(10), quantityOrdered int(10), priceEach int(10), \n",
    "status orderLineNumber(20)); \"\"\""
   ]
  },
  {
   "cell_type": "code",
   "execution_count": 32,
   "id": "2a30fb70",
   "metadata": {},
   "outputs": [
    {
     "ename": "OperationalError",
     "evalue": "table Customers already exists",
     "output_type": "error",
     "traceback": [
      "\u001b[1;31m---------------------------------------------------------------------------\u001b[0m",
      "\u001b[1;31mOperationalError\u001b[0m                          Traceback (most recent call last)",
      "Input \u001b[1;32mIn [32]\u001b[0m, in \u001b[0;36m<cell line: 1>\u001b[1;34m()\u001b[0m\n\u001b[1;32m----> 1\u001b[0m \u001b[43mdb\u001b[49m\u001b[38;5;241;43m.\u001b[39;49m\u001b[43mexecute\u001b[49m\u001b[43m(\u001b[49m\u001b[43mcustomers_table\u001b[49m\u001b[43m)\u001b[49m\n\u001b[0;32m      2\u001b[0m db\u001b[38;5;241m.\u001b[39mexecute(orders)\n\u001b[0;32m      3\u001b[0m db\u001b[38;5;241m.\u001b[39mexecute(order_details)\n",
      "\u001b[1;31mOperationalError\u001b[0m: table Customers already exists"
     ]
    }
   ],
   "source": [
    "db.execute(customers_table)\n",
    "\n"
   ]
  },
  {
   "cell_type": "code",
   "execution_count": 37,
   "id": "57ad61c7",
   "metadata": {},
   "outputs": [
    {
     "ename": "OperationalError",
     "evalue": "table orders already exists",
     "output_type": "error",
     "traceback": [
      "\u001b[1;31m---------------------------------------------------------------------------\u001b[0m",
      "\u001b[1;31mOperationalError\u001b[0m                          Traceback (most recent call last)",
      "Input \u001b[1;32mIn [37]\u001b[0m, in \u001b[0;36m<cell line: 1>\u001b[1;34m()\u001b[0m\n\u001b[1;32m----> 1\u001b[0m \u001b[43mdb\u001b[49m\u001b[38;5;241;43m.\u001b[39;49m\u001b[43mexecute\u001b[49m\u001b[43m(\u001b[49m\u001b[43morders\u001b[49m\u001b[43m)\u001b[49m\n",
      "\u001b[1;31mOperationalError\u001b[0m: table orders already exists"
     ]
    }
   ],
   "source": [
    "db.execute(orders)"
   ]
  },
  {
   "cell_type": "code",
   "execution_count": 22,
   "id": "750ced26",
   "metadata": {},
   "outputs": [
    {
     "data": {
      "text/plain": [
       "<sqlite3.Cursor at 0x16c40b7eb90>"
      ]
     },
     "execution_count": 22,
     "metadata": {},
     "output_type": "execute_result"
    }
   ],
   "source": [
    "db.execute(\"\"\"Select * from orders;\"\"\")"
   ]
  },
  {
   "cell_type": "code",
   "execution_count": 24,
   "id": "8239fdb4",
   "metadata": {},
   "outputs": [
    {
     "data": {
      "text/plain": [
       "<sqlite3.Cursor at 0x16c40b7e7a0>"
      ]
     },
     "execution_count": 24,
     "metadata": {},
     "output_type": "execute_result"
    }
   ],
   "source": [
    "db.execute(\"\"\"Select comments from orders;\"\"\")"
   ]
  },
  {
   "cell_type": "code",
   "execution_count": 33,
   "id": "01991d55",
   "metadata": {},
   "outputs": [
    {
     "ename": "OperationalError",
     "evalue": "table orderdetails already exists",
     "output_type": "error",
     "traceback": [
      "\u001b[1;31m---------------------------------------------------------------------------\u001b[0m",
      "\u001b[1;31mOperationalError\u001b[0m                          Traceback (most recent call last)",
      "Input \u001b[1;32mIn [33]\u001b[0m, in \u001b[0;36m<cell line: 1>\u001b[1;34m()\u001b[0m\n\u001b[1;32m----> 1\u001b[0m \u001b[43mdb\u001b[49m\u001b[38;5;241;43m.\u001b[39;49m\u001b[43mexecute\u001b[49m\u001b[43m(\u001b[49m\u001b[43morder_details\u001b[49m\u001b[43m)\u001b[49m\n",
      "\u001b[1;31mOperationalError\u001b[0m: table orderdetails already exists"
     ]
    }
   ],
   "source": [
    "db.execute(order_details)"
   ]
  },
  {
   "cell_type": "code",
   "execution_count": 38,
   "id": "99bbfcd1",
   "metadata": {},
   "outputs": [
    {
     "ename": "OperationalError",
     "evalue": "no such column: orderNumber",
     "output_type": "error",
     "traceback": [
      "\u001b[1;31m---------------------------------------------------------------------------\u001b[0m",
      "\u001b[1;31mOperationalError\u001b[0m                          Traceback (most recent call last)",
      "Input \u001b[1;32mIn [38]\u001b[0m, in \u001b[0;36m<cell line: 1>\u001b[1;34m()\u001b[0m\n\u001b[1;32m----> 1\u001b[0m \u001b[43mdb\u001b[49m\u001b[38;5;241;43m.\u001b[39;49m\u001b[43mexecute\u001b[49m\u001b[43m(\u001b[49m\u001b[38;5;124;43m\"\"\"\u001b[39;49m\u001b[38;5;124;43mSelect date(orderDate) , count(orderNumber) AS daily_total From orders GROUP BY date(orderDate);\u001b[39;49m\u001b[38;5;124;43m\"\"\"\u001b[39;49m\u001b[43m)\u001b[49m\n",
      "\u001b[1;31mOperationalError\u001b[0m: no such column: orderNumber"
     ]
    }
   ],
   "source": [
    "db.execute(\"\"\"Select date(orderDate) , count(orderNumber) AS daily_total From orders GROUP BY date(orderDate);\"\"\")"
   ]
  },
  {
   "cell_type": "code",
   "execution_count": 39,
   "id": "3a8a9975",
   "metadata": {},
   "outputs": [
    {
     "ename": "OperationalError",
     "evalue": "no such table: employee",
     "output_type": "error",
     "traceback": [
      "\u001b[1;31m---------------------------------------------------------------------------\u001b[0m",
      "\u001b[1;31mOperationalError\u001b[0m                          Traceback (most recent call last)",
      "Input \u001b[1;32mIn [39]\u001b[0m, in \u001b[0;36m<cell line: 1>\u001b[1;34m()\u001b[0m\n\u001b[1;32m----> 1\u001b[0m \u001b[43mdb\u001b[49m\u001b[38;5;241;43m.\u001b[39;49m\u001b[43mexecute\u001b[49m\u001b[43m(\u001b[49m\u001b[38;5;124;43m\"\"\"\u001b[39;49m\u001b[38;5;124;43mSelect employeeNumber, lastname,firstname from employee;\u001b[39;49m\u001b[38;5;124;43m\"\"\"\u001b[39;49m\u001b[43m)\u001b[49m\n",
      "\u001b[1;31mOperationalError\u001b[0m: no such table: employee"
     ]
    }
   ],
   "source": [
    "db.execute(\"\"\"Select employeeNumber, lastname,firstname from employee;\"\"\")"
   ]
  },
  {
   "cell_type": "code",
   "execution_count": null,
   "id": "7025893b",
   "metadata": {},
   "outputs": [],
   "source": [
    "db.execute(\"\"\"SELECT O.orderNumber\n",
    "FROM orders O\n",
    "INNER JOIN customers C\n",
    "ON C.customerNumber = O.customerNumber \n",
    "WHERE (LEFT(C.customerName,1) IN (@Initial) AND @FieldChoice = 1)\n",
    "OR (LEFT(C.contactFirstName,1) IN (@Initial) AND @FieldChoice = 2)\n",
    "OR (LEFT(C.contactLastName,1) IN (@Initial) AND @FieldChoice = 3)  ;\"\"\")"
   ]
  },
  {
   "cell_type": "code",
   "execution_count": null,
   "id": "6c0e5093",
   "metadata": {},
   "outputs": [],
   "source": [
    "db.execute(\"\"\"Select customerName, salesRepEmployeeNumber from customers;\n",
    "\"\"\")"
   ]
  },
  {
   "cell_type": "code",
   "execution_count": null,
   "id": "344ea189",
   "metadata": {},
   "outputs": [],
   "source": [
    "db.execute(\"\"\"Select paymentDate, amount from payments where paymentDate = '2022-12-08';\"\"\")"
   ]
  },
  {
   "cell_type": "code",
   "execution_count": null,
   "id": "dc4d388c",
   "metadata": {},
   "outputs": [],
   "source": [
    "db.execute(\"\"\"Select productName, MSRP, productDescription from products;\"\"\")"
   ]
  },
  {
   "cell_type": "code",
   "execution_count": null,
   "id": "c0a1ca5d",
   "metadata": {},
   "outputs": [],
   "source": [
    "db.execute(\"\"\"SELECT p.'productCode', p.'productName', SUM(o.'quantityOrdered') AS quantity\n",
    "FROM 'orderdetails' AS o\n",
    "    INNER JOIN 'products' AS p\n",
    "    ON o.'orderNumber' = p.'productCode'\n",
    "GROUP BY o.'orderNumber'\n",
    "ORDER BY SUM(o.'quantityOrdered') DESC, p.'productName' ASC\n",
    "LIMIT 3\"\"\")"
   ]
  },
  {
   "cell_type": "code",
   "execution_count": null,
   "id": "66205268",
   "metadata": {},
   "outputs": [],
   "source": [
    "db.commit()"
   ]
  },
  {
   "cell_type": "code",
   "execution_count": 23,
   "id": "7fdcaaa1",
   "metadata": {},
   "outputs": [],
   "source": []
  },
  {
   "cell_type": "code",
   "execution_count": null,
   "id": "e157585e",
   "metadata": {},
   "outputs": [],
   "source": []
  }
 ],
 "metadata": {
  "kernelspec": {
   "display_name": "Python 3 (ipykernel)",
   "language": "python",
   "name": "python3"
  },
  "language_info": {
   "codemirror_mode": {
    "name": "ipython",
    "version": 3
   },
   "file_extension": ".py",
   "mimetype": "text/x-python",
   "name": "python",
   "nbconvert_exporter": "python",
   "pygments_lexer": "ipython3",
   "version": "3.9.12"
  }
 },
 "nbformat": 4,
 "nbformat_minor": 5
}
