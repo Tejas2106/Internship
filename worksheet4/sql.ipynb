{
 "cells": [
  {
   "cell_type": "code",
   "execution_count": null,
   "id": "d9c555a6",
   "metadata": {},
   "outputs": [],
   "source": [
    "1. SELECT date(shippedDate)\n",
    "     , COUNT(orderNumber) AS num_orders\n",
    "  FROM orders\n",
    " GROUP BY date(shippedDate)\n",
    "2. SELECT date(orderDate)\n",
    "     , COUNT(orderNumber) AS num_orders\n",
    "  FROM orders\n",
    " GROUP BY date(orderDate)\n",
    "3. SELECT productName, MSRP\n",
    "   FROM products\n",
    "   WHERE pro_price = \n",
    "    (SELECT MIN(MSRP) FROM products);\n",
    "\n",
    "4. SELECT productName, COUNT(quantityInStock) as product_quantity \n",
    "FROM products\n",
    "GROUP BY productName\n",
    "HAVING COUNT(quantityInStock) >= ALL(\n",
    "    SELECT COUNT(quantityInStock)\n",
    "    FROM products\n",
    "    GROUP BY productName \n",
    ")\n",
    "\n",
    "5. SELECT p.'productCode', p.'productName', SUM(o.'quantityOrdered') AS quantity\n",
    "FROM 'orderdetails' AS o\n",
    "    INNER JOIN 'products' AS p\n",
    "    ON o.'productCode' = p.'productCode'\n",
    "GROUP BY o.'productCode'\n",
    "ORDER BY SUM(o.'quantityOrdered') DESC, p.'productName' ASC\n",
    "LIMIT 3\n",
    "\n",
    "6.\n",
    "\n",
    "7.\n",
    "\n",
    "8. DECLARE @Initial varchar(1) --Declaring our Initial\n",
    "SET @Initial = 'N' --Initial to search\n",
    "\n",
    "SELECT customerNumber, customerName\n",
    "FROM customers\n",
    "INNER JOIN customers C\n",
    "ON C.customerNumber = O.customerNumber \n",
    "AND (LEFT(C.contactLastName,1) IN (@Initial) "
   ]
  }
 ],
 "metadata": {
  "kernelspec": {
   "display_name": "Python 3 (ipykernel)",
   "language": "python",
   "name": "python3"
  },
  "language_info": {
   "codemirror_mode": {
    "name": "ipython",
    "version": 3
   },
   "file_extension": ".py",
   "mimetype": "text/x-python",
   "name": "python",
   "nbconvert_exporter": "python",
   "pygments_lexer": "ipython3",
   "version": "3.9.12"
  }
 },
 "nbformat": 4,
 "nbformat_minor": 5
}
